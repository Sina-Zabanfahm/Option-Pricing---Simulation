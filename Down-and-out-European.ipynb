{
 "cells": [
  {
   "cell_type": "markdown",
   "id": "dd941ac0",
   "metadata": {},
   "source": [
    "The idea of computing the value of the down_and_out european option is similar to computing the value of the asian option. \n",
    "\n",
    "Assume that the maturity date is given in $T$. We then divide the interval $(0,T$], into Steps many equal parts. Then we estimate the value of the underlying asset for each end point of these intervals. Multiplier variable is equal to zero, if at one of these point, the value of the underlying asset falls below the Barrier (B). If the value of the underlying asset never falls below $B$, the Multiplier is equal to 1.\n",
    "\n",
    "The final value of the the down and out option (in each simulation) is given by\n",
    "\\begin{align*}\n",
    "e^{-rT}  .Multiplier .\\dot(X(T)-K)^+\n",
    "\\end{align*}\n",
    "Then, to estimate the value of this option we take the expected value of these prices over $40000$ simulaitons."
   ]
  },
  {
   "cell_type": "code",
   "execution_count": 2,
   "id": "5ace406f",
   "metadata": {},
   "outputs": [],
   "source": [
    "\n",
    "\n",
    "import matplotlib.pyplot as plt\n",
    "import numpy as np\n",
    "import pandas as pd\n",
    "import scipy.stats as sp\n",
    "\n",
    "np.random.seed(1)"
   ]
  },
  {
   "cell_type": "code",
   "execution_count": 14,
   "id": "bea91f0a",
   "metadata": {},
   "outputs": [],
   "source": [
    "class EuropeanOption:\n",
    "    def __init__(self, Barrier, Maturity = 1, InterestRate = 0.05,\n",
    "              Sigma = 0.3, InitialValue = 50.0, StrikePrice = 55):\n",
    "        self.Maturity = Maturity\n",
    "        self.InterestRate = InterestRate\n",
    "        self.Sigma = Sigma\n",
    "        self.InitialValue = InitialValue\n",
    "        self.StrikePrice = StrikePrice\n",
    "        self.Sigma2 = self.Sigma * Sigma / 2\n",
    "        self.Barrier = Barrier\n",
    "        \n",
    "    def CI(self, data,confidence = 0.975):\n",
    "        arr = np.array(data)\n",
    "        n = len(arr)\n",
    "        mean = np.mean(arr)\n",
    "        sd = np.std(arr,ddof = 1)\n",
    "        z_value = sp.norm.ppf(.975)\n",
    "        hw = z_value * sd / np.sqrt(n)\n",
    "        return mean, [mean-hw,mean + hw]\n",
    "    \n",
    "    def PriceSimulation(self, Steps = 64):\n",
    "        Interval = self.Maturity / Steps\n",
    "        X = self.InitialValue\n",
    "        Multiplier = 1\n",
    "        for i in range(Steps):\n",
    "            Z = np.random.standard_normal(1)\n",
    "            X = X * np.exp((self.InterestRate - self.Sigma2) * Interval +\n",
    "                       self.Sigma * np.sqrt(Interval) * Z)\n",
    "            m = 1\n",
    "\n",
    "            Multiplier = min (Multiplier, X> self.Barrier)\n",
    "        Value = Multiplier * np.exp(-self.InterestRate * self.Maturity) * max (X,0)\n",
    "        #print(Value)\n",
    "\n",
    "\n",
    "        return Value\n",
    "    \n",
    "    def PriceStats(self,Replication, Steps = 64):\n",
    "        ValueList = []\n",
    "        for i in range(Replication):\n",
    "            ValueList.append(self.PriceSimulation(64))\n",
    "        #print(ValueList)\n",
    "        print(self.CI(ValueList))\n",
    "            "
   ]
  },
  {
   "cell_type": "code",
   "execution_count": 20,
   "id": "3d29cbde",
   "metadata": {},
   "outputs": [
    {
     "name": "stdout",
     "output_type": "stream",
     "text": [
      "For B = 35 the estimated value and 95 percent CI is: \n",
      "(43.09105316076773, [42.845082344794626, 43.33702397674083])\n",
      "For B = 40 the estimated value and 95 percent CI is: \n",
      "(34.45807343122589, [34.159513174618354, 34.75663368783343])\n",
      "For B = 45 the estimated value and 95 percent CI is: \n",
      "(20.956585747776874, [20.655529342980664, 21.257642152573084])\n"
     ]
    }
   ],
   "source": [
    "Barriers = [35,40,45]\n",
    "for B in Barriers:\n",
    "    option = EuropeanOption(B)\n",
    "    print('For B = {} the estimated value and 95 percent CI is: '.format(B),)\n",
    "    option.PriceStats(Replication = 40000,Steps = 64)\n"
   ]
  },
  {
   "cell_type": "markdown",
   "id": "61b03294",
   "metadata": {},
   "source": [
    "Note that as the value of the Barrier increases, the value of the option decreases. This is because as the Barrier increases, it becomes more likely for the asset price to fall below the Barrier value."
   ]
  }
 ],
 "metadata": {
  "kernelspec": {
   "display_name": "Python 3 (ipykernel)",
   "language": "python",
   "name": "python3"
  },
  "language_info": {
   "codemirror_mode": {
    "name": "ipython",
    "version": 3
   },
   "file_extension": ".py",
   "mimetype": "text/x-python",
   "name": "python",
   "nbconvert_exporter": "python",
   "pygments_lexer": "ipython3",
   "version": "3.9.13"
  }
 },
 "nbformat": 4,
 "nbformat_minor": 5
}
